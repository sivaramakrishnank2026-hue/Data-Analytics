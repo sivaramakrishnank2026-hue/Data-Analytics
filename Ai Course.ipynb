{
 "cells": [
  {
   "cell_type": "code",
   "execution_count": 13,
   "id": "afe69cfa-0349-417e-9d10-dab357e6b46e",
   "metadata": {},
   "outputs": [
    {
     "name": "stdout",
     "output_type": "stream",
     "text": [
      "LOM SUPERMARKET\n",
      "ENTER YOUR DETAILS\n"
     ]
    },
    {
     "name": "stdin",
     "output_type": "stream",
     "text": [
      "ENTER THE NAME: qwert\n",
      "ENTER THE AGE: 23\n",
      "ENTER THE YOUR PHONE NUMBER: 1234567\n"
     ]
    },
    {
     "name": "stdout",
     "output_type": "stream",
     "text": [
      "WELCOME qwert TO LOM SUPER MARKET\n",
      "LIST OF ITEMS\n",
      "RICE-45/kg\n",
      "OIL-100/l\n",
      "BREAD-40\n"
     ]
    },
    {
     "name": "stdin",
     "output_type": "stream",
     "text": [
      "ENTER THE QUANTITY: 2\n",
      "ENTER THE QUANTITY: 3\n",
      "ENTER THE QUANTITY: 4\n"
     ]
    },
    {
     "name": "stdout",
     "output_type": "stream",
     "text": [
      "TOTAL AMOUNT: 550.0\n",
      "CARD PAYMENT\n",
      "TOTAL PAYMENT 550.0\n",
      "AMOUNT THE TOTAL: 99.0\n",
      "ORGINAL AMOUNT: 649.0\n"
     ]
    }
   ],
   "source": [
    "print(\"LOM SUPERMARKET\")\n",
    "print(\"ENTER YOUR DETAILS\")\n",
    "Name=(input(\"ENTER THE NAME:\"))\n",
    "Age=(input(\"ENTER THE AGE:\"))\n",
    "Ph=(input(\"ENTER THE YOUR PHONE NUMBER:\"))\n",
    "print(\"WELCOME\",Name,\"TO LOM SUPER MARKET\")\n",
    "print(\"LIST OF ITEMS\")\n",
    "\n",
    "print(\"RICE-45/kg\")\n",
    "print(\"OIL-100/l\")\n",
    "print(\"BREAD-40\")\n",
    "\n",
    "rice=float(input(\"ENTER THE QUANTITY:\"))\n",
    "oli=float(input(\"ENTER THE QUANTITY:\"))\n",
    "bread=float(input(\"ENTER THE QUANTITY:\"))\n",
    "\n",
    "total=rice*45+oli*100+bread*40\n",
    "print(\"TOTAL AMOUNT:\",total)\n",
    "if(total>250):\n",
    "    print(\"CARD PAYMENT\")\n",
    "print(\"TOTAL PAYMENT\",total)\n",
    "amount=total*18/100;\n",
    "print(\"AMOUNT THE TOTAL:\",amount)\n",
    "orginal=total+amount\n",
    "print(\"ORGINAL AMOUNT:\",orginal)"
   ]
  },
  {
   "cell_type": "code",
   "execution_count": null,
   "id": "33177800-044d-493f-b841-2b86a22fafce",
   "metadata": {},
   "outputs": [],
   "source": [
    "from "
   ]
  },
  {
   "cell_type": "code",
   "execution_count": null,
   "id": "0de26ab8-0ce4-4296-a1c1-2f959ee66ed3",
   "metadata": {},
   "outputs": [],
   "source": []
  }
 ],
 "metadata": {
  "kernelspec": {
   "display_name": "Python 3 (ipykernel)",
   "language": "python",
   "name": "python3"
  },
  "language_info": {
   "codemirror_mode": {
    "name": "ipython",
    "version": 3
   },
   "file_extension": ".py",
   "mimetype": "text/x-python",
   "name": "python",
   "nbconvert_exporter": "python",
   "pygments_lexer": "ipython3",
   "version": "3.13.5"
  }
 },
 "nbformat": 4,
 "nbformat_minor": 5
}
